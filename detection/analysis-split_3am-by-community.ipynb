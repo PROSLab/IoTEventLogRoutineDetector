{
 "cells": [
  {
   "cell_type": "code",
   "execution_count": 1,
   "outputs": [],
   "source": [
    "from pm4py.objects.log.importer.xes import importer as xes_importer\n",
    "from pm4py.algo.discovery.dfg import algorithm as dfg_discovery\n",
    "from clustering_utils import  build_cdlib_graph, build_ground_truth, get_ordered_communities, get_events_count\n",
    "from utils import pre_processing_xes, discard_events_in_multiple_activities\n",
    "import os\n",
    "import pm4py\n",
    "import networkx as nx"
   ],
   "metadata": {
    "collapsed": false,
    "ExecuteTime": {
     "end_time": "2024-06-13T12:31:38.265506Z",
     "start_time": "2024-06-13T12:31:37.309783Z"
    }
   },
   "id": "634df69ffcd21f18"
  },
  {
   "cell_type": "code",
   "execution_count": null,
   "outputs": [],
   "source": [
    "# LOADING DATA\n",
    "# event log not partitioned (single trace with a list of events)\n",
    "event_log = xes_importer.apply('abstraction/dataset-3am/split-3am-splitted_at_3.xes') # ('sim_22d1p_22/EventLogXESNoSegment.xes')"
   ],
   "metadata": {
    "collapsed": false
   },
   "id": "6ffed0ec2b21efc0"
  },
  {
   "cell_type": "code",
   "execution_count": 3,
   "outputs": [],
   "source": [
    "import csv\n",
    "\n",
    "def read_csv_to_list(file_path):\n",
    "    \"\"\"\n",
    "    Reads a CSV file without a header and returns its content as a list of lists.\n",
    "\n",
    "    Parameters:\n",
    "    file_path (str): The path to the CSV file.\n",
    "\n",
    "    Returns:\n",
    "    list: The contents of the CSV file as a list of lists.\n",
    "    \"\"\"\n",
    "    data = []\n",
    "    try:\n",
    "        with open(file_path, mode='r', newline='', encoding='utf-8') as file:\n",
    "            reader = csv.reader(file, delimiter=\"\\t\")\n",
    "            for row in reader:\n",
    "                data.append(row)\n",
    "        print(\"File read correctly!\")\n",
    "    except Exception as e:\n",
    "        print(f\"Error in reading file: {e}\")\n",
    "    \n",
    "    return data\n",
    "\n",
    "# Esempio di utilizzo:\n",
    "# data = read_csv_t"
   ],
   "metadata": {
    "collapsed": false,
    "ExecuteTime": {
     "end_time": "2024-06-13T12:31:39.869047Z",
     "start_time": "2024-06-13T12:31:39.855261Z"
    }
   },
   "id": "83df683947e50ee1"
  },
  {
   "cell_type": "code",
   "execution_count": null,
   "outputs": [],
   "source": [
    "comms = read_csv_to_list('abstraction/communities_coms_infomap.txt')"
   ],
   "metadata": {
    "collapsed": false
   },
   "id": "185308dba92d54ff"
  },
  {
   "cell_type": "code",
   "execution_count": 5,
   "outputs": [],
   "source": [
    "from utils import convert_to_dataframe, convert_to_event_log\n",
    "from clustering_utils import get_events_count"
   ],
   "metadata": {
    "collapsed": false,
    "ExecuteTime": {
     "end_time": "2024-06-13T12:31:40.812531Z",
     "start_time": "2024-06-13T12:31:40.795110Z"
    }
   },
   "id": "5dee2990f62d27f7"
  },
  {
   "cell_type": "code",
   "execution_count": 6,
   "outputs": [],
   "source": [
    "event_log_df = convert_to_dataframe(event_log)"
   ],
   "metadata": {
    "collapsed": false,
    "ExecuteTime": {
     "end_time": "2024-06-13T12:31:41.009872Z",
     "start_time": "2024-06-13T12:31:40.998398Z"
    }
   },
   "id": "862d8987890242e0"
  },
  {
   "cell_type": "code",
   "execution_count": 7,
   "outputs": [],
   "source": [
    "def hide_processes(df):\n",
    "    df['reference:case:concept:name'] = \"unknown\"\n",
    "   \n",
    "    return df"
   ],
   "metadata": {
    "collapsed": false,
    "ExecuteTime": {
     "end_time": "2024-06-13T12:31:41.417982Z",
     "start_time": "2024-06-13T12:31:41.404417Z"
    }
   },
   "id": "1af8c860bdbeb649"
  },
  {
   "cell_type": "code",
   "execution_count": 8,
   "outputs": [],
   "source": [
    "#event_log_df = hide_processes(event_log_df)"
   ],
   "metadata": {
    "collapsed": false,
    "ExecuteTime": {
     "end_time": "2024-06-13T12:31:41.841655Z",
     "start_time": "2024-06-13T12:31:41.832521Z"
    }
   },
   "id": "e58a751a29b57d88"
  },
  {
   "cell_type": "code",
   "execution_count": 15,
   "outputs": [],
   "source": [
    "def filter_by_community(df, community_events = []):\n",
    "    events_to_drop = []\n",
    "    \n",
    "    for i in df.index:\n",
    "        concept_name = df.at[i, 'concept:name']\n",
    "        df.at[i, 'case:concept:name'] = \"singleton\"\n",
    "        if concept_name not in community_events:\n",
    "            events_to_drop.append(i)\n",
    "            #print(f\"Deleting event {concept_name} (it was in {df.at[i, 'reference:case:concept:name']})\")\n",
    "\n",
    "    df = df.drop(df.index[events_to_drop])\n",
    "    \n",
    "    return df"
   ],
   "metadata": {
    "collapsed": false,
    "ExecuteTime": {
     "end_time": "2024-06-13T12:39:04.825984Z",
     "start_time": "2024-06-13T12:39:04.810266Z"
    }
   },
   "id": "47f538b0035cb79f"
  },
  {
   "cell_type": "code",
   "execution_count": 16,
   "outputs": [],
   "source": [
    "from conversion import write_xes"
   ],
   "metadata": {
    "collapsed": false,
    "ExecuteTime": {
     "end_time": "2024-06-13T12:39:05.952745Z",
     "start_time": "2024-06-13T12:39:05.935459Z"
    }
   },
   "id": "206b66951c3d876b"
  },
  {
   "cell_type": "code",
   "execution_count": 17,
   "outputs": [
    {
     "name": "stdout",
     "output_type": "stream",
     "text": [
      "1 - Filter for community change_clothes:112 --> ['go_wardrobe', 'change_clothes', 'go_shoe_shelf', 'dress_up_outdoor', 'go_workplace', 'work', 'dress_down_outdoor', 'finish_walk', 'go_outside', 'get_food', 'walk_outside']\n"
     ]
    },
    {
     "data": {
      "text/plain": "exporting log, completed traces ::   0%|          | 0/1 [00:00<?, ?it/s]",
      "application/vnd.jupyter.widget-view+json": {
       "version_major": 2,
       "version_minor": 0,
       "model_id": "de0314cae16446bf8212a9e16236fc5b"
      }
     },
     "metadata": {},
     "output_type": "display_data"
    },
    {
     "name": "stdout",
     "output_type": "stream",
     "text": [
      "2 - Filter for community get_water:240 --> ['go_kitchen_shelf', 'get_glass', 'go_kitchen_sink', 'get_water', 'drink_water', 'put_plate_to_sink', 'pack_goods', 'wash_dishes']\n"
     ]
    },
    {
     "data": {
      "text/plain": "exporting log, completed traces ::   0%|          | 0/1 [00:00<?, ?it/s]",
      "application/vnd.jupyter.widget-view+json": {
       "version_major": 2,
       "version_minor": 0,
       "model_id": "bc7d473f46034d70ba1e49f585d94118"
      }
     },
     "metadata": {},
     "output_type": "display_data"
    },
    {
     "name": "stdout",
     "output_type": "stream",
     "text": [
      "3 - Filter for community wc_do:134 --> ['go_bathroom_sink', 'switch_computer_off', 'go_wc', 'wc_do', 'wc_flush']\n"
     ]
    },
    {
     "data": {
      "text/plain": "exporting log, completed traces ::   0%|          | 0/1 [00:00<?, ?it/s]",
      "application/vnd.jupyter.widget-view+json": {
       "version_major": 2,
       "version_minor": 0,
       "model_id": "75853a29df6a4351b2008a24666f1b36"
      }
     },
     "metadata": {},
     "output_type": "display_data"
    },
    {
     "name": "stdout",
     "output_type": "stream",
     "text": [
      "4 - Filter for community wash_hands:192 --> ['wash_hands', 'go_fridge', 'get_food_from_fridge', 'get_ingredients_from_fridge', 'put_meal_to_fridge']\n"
     ]
    },
    {
     "data": {
      "text/plain": "exporting log, completed traces ::   0%|          | 0/1 [00:00<?, ?it/s]",
      "application/vnd.jupyter.widget-view+json": {
       "version_major": 2,
       "version_minor": 0,
       "model_id": "904aaaa64dca4653b62032241c7b9a9d"
      }
     },
     "metadata": {},
     "output_type": "display_data"
    },
    {
     "name": "stdout",
     "output_type": "stream",
     "text": [
      "5 - Filter for community go_tv:59 --> ['go_tv', 'switch_tv_on', 'go_tv_chair', 'do_watch_tv', 'switch_tv_off']\n"
     ]
    },
    {
     "data": {
      "text/plain": "exporting log, completed traces ::   0%|          | 0/1 [00:00<?, ?it/s]",
      "application/vnd.jupyter.widget-view+json": {
       "version_major": 2,
       "version_minor": 0,
       "model_id": "2c54a76430844ab2914235b4c9decb6f"
      }
     },
     "metadata": {},
     "output_type": "display_data"
    },
    {
     "name": "stdout",
     "output_type": "stream",
     "text": [
      "6 - Filter for community go_windows:6 --> ['go_windows', 'raise_blinds', 'open_windows', 'close_windows', 'lower_blinds']\n"
     ]
    },
    {
     "data": {
      "text/plain": "exporting log, completed traces ::   0%|          | 0/1 [00:00<?, ?it/s]",
      "application/vnd.jupyter.widget-view+json": {
       "version_major": 2,
       "version_minor": 0,
       "model_id": "b4f020f0e314436ca9b6985d9d090a8f"
      }
     },
     "metadata": {},
     "output_type": "display_data"
    },
    {
     "name": "stdout",
     "output_type": "stream",
     "text": [
      "7 - Filter for community go_bed:47 --> ['brush_teeth', 'go_bed', 'sleep_in_bed', 'go_to start']\n"
     ]
    },
    {
     "data": {
      "text/plain": "exporting log, completed traces ::   0%|          | 0/1 [00:00<?, ?it/s]",
      "application/vnd.jupyter.widget-view+json": {
       "version_major": 2,
       "version_minor": 0,
       "model_id": "7b221d2627424d07b8b0d21b7a5be676"
      }
     },
     "metadata": {},
     "output_type": "display_data"
    },
    {
     "name": "stdout",
     "output_type": "stream",
     "text": [
      "8 - Filter for community go_computer:86 --> ['go_computer', 'switch_computer_on', 'go_computer_chair', 'use_the_computer']\n"
     ]
    },
    {
     "data": {
      "text/plain": "exporting log, completed traces ::   0%|          | 0/1 [00:00<?, ?it/s]",
      "application/vnd.jupyter.widget-view+json": {
       "version_major": 2,
       "version_minor": 0,
       "model_id": "fb7a0124989d4898a0941f09e708321c"
      }
     },
     "metadata": {},
     "output_type": "display_data"
    },
    {
     "name": "stdout",
     "output_type": "stream",
     "text": [
      "9 - Filter for community go_dining_table:65 --> ['get_bread', 'go_dining_table', 'eat_cold_meal', 'eat_warm_meal']\n"
     ]
    },
    {
     "data": {
      "text/plain": "exporting log, completed traces ::   0%|          | 0/1 [00:00<?, ?it/s]",
      "application/vnd.jupyter.widget-view+json": {
       "version_major": 2,
       "version_minor": 0,
       "model_id": "fe0f7e4c9c204a9eb7d84ab1273f937b"
      }
     },
     "metadata": {},
     "output_type": "display_data"
    },
    {
     "name": "stdout",
     "output_type": "stream",
     "text": [
      "10 - Filter for community go_oven:8 --> ['get_ingredients_from_shelf', 'go_oven', 'use_oven', 'pack_food']\n"
     ]
    },
    {
     "data": {
      "text/plain": "exporting log, completed traces ::   0%|          | 0/1 [00:00<?, ?it/s]",
      "application/vnd.jupyter.widget-view+json": {
       "version_major": 2,
       "version_minor": 0,
       "model_id": "d8d24e4cb97d4e91935572c4e2411bb3"
      }
     },
     "metadata": {},
     "output_type": "display_data"
    },
    {
     "name": "stdout",
     "output_type": "stream",
     "text": [
      "11 - Filter for community get_clothes:30 --> ['get_clothes', 'go_bathtub', 'have_bath']\n"
     ]
    },
    {
     "data": {
      "text/plain": "exporting log, completed traces ::   0%|          | 0/1 [00:00<?, ?it/s]",
      "application/vnd.jupyter.widget-view+json": {
       "version_major": 2,
       "version_minor": 0,
       "model_id": "0fd0ca4053f0406e99fbb2c55c8fc862"
      }
     },
     "metadata": {},
     "output_type": "display_data"
    },
    {
     "name": "stdout",
     "output_type": "stream",
     "text": [
      "12 - Filter for community get_cold_warm_food:4 --> ['get_cold_warm_food', 'go_micro', 'use_micro']\n"
     ]
    },
    {
     "data": {
      "text/plain": "exporting log, completed traces ::   0%|          | 0/1 [00:00<?, ?it/s]",
      "application/vnd.jupyter.widget-view+json": {
       "version_major": 2,
       "version_minor": 0,
       "model_id": "3a5544315b2f4d18b219fc1a4354b883"
      }
     },
     "metadata": {},
     "output_type": "display_data"
    },
    {
     "name": "stdout",
     "output_type": "stream",
     "text": [
      "13 - Filter for community interact_with_man:38 --> ['go_entrace', 'interact_with_man']\n"
     ]
    },
    {
     "data": {
      "text/plain": "exporting log, completed traces ::   0%|          | 0/1 [00:00<?, ?it/s]",
      "application/vnd.jupyter.widget-view+json": {
       "version_major": 2,
       "version_minor": 0,
       "model_id": "3e7dbc12a7ea406bb33fe684476b03c0"
      }
     },
     "metadata": {},
     "output_type": "display_data"
    },
    {
     "name": "stdout",
     "output_type": "stream",
     "text": [
      "14 - Filter for community do_exercise:12 --> ['go_exercise_place', 'do_exercise']\n"
     ]
    },
    {
     "data": {
      "text/plain": "exporting log, completed traces ::   0%|          | 0/1 [00:00<?, ?it/s]",
      "application/vnd.jupyter.widget-view+json": {
       "version_major": 2,
       "version_minor": 0,
       "model_id": "5603c8f1e0014fc8945dddf5f0d5017b"
      }
     },
     "metadata": {},
     "output_type": "display_data"
    },
    {
     "name": "stdout",
     "output_type": "stream",
     "text": [
      "15 - Filter for community go_chair:4 --> ['go_chair', 'rest_in_chair']\n"
     ]
    },
    {
     "data": {
      "text/plain": "exporting log, completed traces ::   0%|          | 0/1 [00:00<?, ?it/s]",
      "application/vnd.jupyter.widget-view+json": {
       "version_major": 2,
       "version_minor": 0,
       "model_id": "e7988f804fc545b5a1b54e1518cb5ca0"
      }
     },
     "metadata": {},
     "output_type": "display_data"
    }
   ],
   "source": [
    "id = 0\n",
    "for community in comms:\n",
    "    id = id + 1\n",
    "    community_name = community[0]\n",
    "    community_events = str(community[1]).split(\",\")\n",
    "    df = event_log_df.copy(deep=True)\n",
    "\n",
    "    print(f\"{id} - Filter for community {community_name} --> {community_events}\")\n",
    "    df_community = filter_by_community(df, community_events)\n",
    "    output_file = f'abstraction/dataset-3am/analysis-test/split-3am-splitted_at_3-analysis-{id}-{community_name.split(\":\")[0]}.xes'\n",
    "    write_xes(df_community, output_file)"
   ],
   "metadata": {
    "collapsed": false,
    "ExecuteTime": {
     "end_time": "2024-06-13T12:39:13.572108Z",
     "start_time": "2024-06-13T12:39:12.073038Z"
    }
   },
   "id": "9d52007087640124"
  },
  {
   "cell_type": "code",
   "execution_count": null,
   "outputs": [],
   "source": [
    "from conversion import read_csv, format_dataframe, convert_to_event_log, write_xes"
   ],
   "metadata": {
    "collapsed": false
   },
   "id": "8357006a10e841af"
  },
  {
   "cell_type": "code",
   "execution_count": null,
   "outputs": [],
   "source": [],
   "metadata": {
    "collapsed": false
   },
   "id": "ebdcba61adcaa009"
  },
  {
   "cell_type": "code",
   "execution_count": null,
   "outputs": [],
   "source": [],
   "metadata": {
    "collapsed": false
   },
   "id": "b8806813fc552a23"
  }
 ],
 "metadata": {
  "kernelspec": {
   "display_name": "Python 3",
   "language": "python",
   "name": "python3"
  },
  "language_info": {
   "codemirror_mode": {
    "name": "ipython",
    "version": 2
   },
   "file_extension": ".py",
   "mimetype": "text/x-python",
   "name": "python",
   "nbconvert_exporter": "python",
   "pygments_lexer": "ipython2",
   "version": "2.7.6"
  }
 },
 "nbformat": 4,
 "nbformat_minor": 5
}

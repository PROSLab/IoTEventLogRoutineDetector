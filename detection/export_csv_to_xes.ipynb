{
 "cells": [
  {
   "cell_type": "code",
   "execution_count": 3,
   "id": "634df69ffcd21f18",
   "metadata": {
    "ExecuteTime": {
     "end_time": "2024-06-11T14:35:17.709050Z",
     "start_time": "2024-06-11T14:35:17.684475Z"
    },
    "collapsed": false
   },
   "outputs": [],
   "source": [
    "import os"
   ]
  },
  {
   "cell_type": "code",
   "execution_count": 4,
   "id": "91e9bc6db53965b4",
   "metadata": {
    "ExecuteTime": {
     "end_time": "2024-06-11T14:35:18.199573Z",
     "start_time": "2024-06-11T14:35:18.182304Z"
    },
    "collapsed": false
   },
   "outputs": [],
   "source": [
    "file_name = 'abstraction/cep/abstracted-ground_truth-EventLogXESNoSegment.csv'"
   ]
  },
  {
   "cell_type": "code",
   "execution_count": 21,
   "id": "2a06eb9240e69648",
   "metadata": {
    "ExecuteTime": {
     "end_time": "2024-06-06T11:00:10.461338Z",
     "start_time": "2024-06-06T11:00:10.449783Z"
    },
    "collapsed": false
   },
   "outputs": [],
   "source": [
    "file_name = 'abstraction/cep/abstracted-infomap-EventLogXESNoSegment.csv'"
   ]
  },
  {
   "cell_type": "code",
   "execution_count": null,
   "id": "7547d9816bef9ec0",
   "metadata": {
    "collapsed": false
   },
   "outputs": [],
   "source": [
    "file_name = 'abstraction/cep/abstracted-Louvain_18-EventLogXESNoSegment.csv'\n"
   ]
  },
  {
   "cell_type": "code",
   "execution_count": null,
   "id": "2a0d3fe46f205590",
   "metadata": {
    "collapsed": false
   },
   "outputs": [],
   "source": [
    "file_name = 'abstraction/cep/abstracted-dpclus_79.txt-EventLogXESNoSegment.csv'\n"
   ]
  },
  {
   "cell_type": "code",
   "execution_count": null,
   "id": "967c1731c3957481",
   "metadata": {
    "collapsed": false
   },
   "outputs": [],
   "source": [
    "file_name = 'abstraction/cep/abstracted-Louvain_23-EventLogXESNoSegment.csv'\n"
   ]
  },
  {
   "cell_type": "code",
   "execution_count": null,
   "id": "a2b26c2a6e908549",
   "metadata": {
    "collapsed": false
   },
   "outputs": [],
   "source": [
    "file_name = 'abstraction/cep/abstracted-Louvain_23-EventLogXESNoSegment.csv'\n"
   ]
  },
  {
   "cell_type": "code",
   "execution_count": 2,
   "id": "6863de4d040c453f",
   "metadata": {
    "ExecuteTime": {
     "end_time": "2024-06-10T20:52:40.002293Z",
     "start_time": "2024-06-10T20:52:39.991309Z"
    },
    "collapsed": false
   },
   "outputs": [],
   "source": [
    "file_name = 'abstraction/ground_truth/ground_truth_abstracted.csv'\n"
   ]
  },
  {
   "cell_type": "code",
   "execution_count": 5,
   "id": "da34c853c41bde87",
   "metadata": {
    "ExecuteTime": {
     "end_time": "2024-06-11T14:35:23.736810Z",
     "start_time": "2024-06-11T14:35:23.722160Z"
    },
    "collapsed": false
   },
   "outputs": [],
   "source": [
    "# Split the filename and extension\n",
    "base, ext = os.path.splitext(file_name)\n",
    "\n",
    "# Only add the new extension if there isn't one already\n",
    "xes_filename = base + ('.' + \"xes\" if ext == '' else \".xes\")"
   ]
  },
  {
   "cell_type": "code",
   "execution_count": 6,
   "id": "8357006a10e841af",
   "metadata": {
    "ExecuteTime": {
     "end_time": "2024-06-11T14:35:24.901902Z",
     "start_time": "2024-06-11T14:35:24.884197Z"
    },
    "collapsed": false
   },
   "outputs": [],
   "source": [
    "from conversion import read_csv, format_dataframe, convert_to_event_log, write_xes"
   ]
  },
  {
   "cell_type": "code",
   "execution_count": 7,
   "id": "6f4cb2bdb48afb83",
   "metadata": {
    "ExecuteTime": {
     "end_time": "2024-06-11T14:35:28.305972Z",
     "start_time": "2024-06-11T14:35:28.288089Z"
    },
    "collapsed": false
   },
   "outputs": [],
   "source": [
    "def create_abstracted_log2(csv_path, output_file=\"abstraction/abstracted.xes\", sort=False, split_hour=None):\n",
    "    \"\"\"Convert a CSV file into a dataframe, segments it on a daily basis, sort it chronologically and save it as XES.\"\"\"\n",
    "    abstracted_csv = read_csv(csv_path, sep=',')\n",
    "    case_concept_name = 'case_id'\n",
    "\n",
    "    if 'case:concept:name' not in abstracted_csv:\n",
    "        abstracted_csv['case:concept:name'] = case_concept_name\n",
    "\n",
    "    if sort:\n",
    "        abstracted_csv = abstracted_csv.sort_values(by=[\"time:timestamp\", \"eventId\"])\n",
    "\n",
    "    date_ref = None\n",
    "    prev_date = None\n",
    "\n",
    "    for i in abstracted_csv.index:\n",
    "        #case_id = case_concept_name\n",
    "        if split_hour and date_ref is None:\n",
    "            date_ref = str(abstracted_csv.at[i, 'time:timestamp'])[0:10]\n",
    "            case_id = date_ref\n",
    "\n",
    "        # update case concept name if splitting is provided\n",
    "        if split_hour is not None:\n",
    "            #hour = abstracted_csv.at[i, 'time:timestamp'].hour # str(abstracted_csv.at[i, 'time:timestamp'])[0:10]\n",
    "            hour = int(abstracted_csv.at[i, 'time:timestamp'][11:13])\n",
    "            if hour > split_hour:\n",
    "                current_date = str(abstracted_csv.at[i, 'time:timestamp'])[0:10]\n",
    "                if current_date != date_ref:\n",
    "                    if prev_date is None:\n",
    "                        prev_date = \"-\"\n",
    "                    print(\n",
    "                        f\"Split hour {hour} due to passed split at {split_hour}. Current date: {abstracted_csv.at[i, 'time:timestamp']}, reference date {date_ref}, prev_date {prev_date}\")\n",
    "                    date_ref = current_date\n",
    "                    case_id = date_ref\n",
    "        prev_date = abstracted_csv.at[i, 'time:timestamp'][0:15]\n",
    "        abstracted_csv.at[i, 'case:concept:name'] = case_id#str(abstracted_csv.at[i, 'time:timestamp'])[0:10]\n",
    "\n",
    "    abstracted_csv = format_dataframe(abstracted_csv, case_id='case:concept:name', activity_key='concept:name',\n",
    "                                      timestamp_key='time:timestamp')\n",
    "\n",
    "\n",
    "    abstracted = convert_to_event_log(abstracted_csv)\n",
    "    write_xes(abstracted, output_file)\n"
   ]
  },
  {
   "cell_type": "code",
   "execution_count": 8,
   "id": "1f8c5370bb41a5c4",
   "metadata": {
    "ExecuteTime": {
     "end_time": "2024-06-11T14:35:29.303171Z",
     "start_time": "2024-06-11T14:35:29.123529Z"
    },
    "collapsed": false
   },
   "outputs": [
    {
     "name": "stdout",
     "output_type": "stream",
     "text": [
      "Split hour 20 due to passed split at 19. Current date: 2020-03-17 20:50:00+00:00, reference date 2020-03-16, prev_date 2020-03-17 18:5\n",
      "Split hour 21 due to passed split at 19. Current date: 2020-03-18 21:05:00+00:00, reference date 2020-03-17, prev_date 2020-03-18 19:2\n",
      "Split hour 23 due to passed split at 19. Current date: 2020-03-19 23:54:00+00:00, reference date 2020-03-18, prev_date 2020-03-19 18:5\n",
      "Split hour 20 due to passed split at 19. Current date: 2020-03-20 20:50:00+00:00, reference date 2020-03-19, prev_date 2020-03-20 19:5\n",
      "Split hour 20 due to passed split at 19. Current date: 2020-03-21 20:09:00+00:00, reference date 2020-03-20, prev_date 2020-03-21 19:3\n",
      "Split hour 20 due to passed split at 19. Current date: 2020-03-22 20:16:00+00:00, reference date 2020-03-21, prev_date 2020-03-22 18:4\n",
      "Split hour 23 due to passed split at 19. Current date: 2020-03-23 23:42:00+00:00, reference date 2020-03-22, prev_date 2020-03-23 18:5\n",
      "Split hour 20 due to passed split at 19. Current date: 2020-03-24 20:16:00+00:00, reference date 2020-03-23, prev_date 2020-03-24 18:5\n",
      "Split hour 20 due to passed split at 19. Current date: 2020-03-26 20:32:00+00:00, reference date 2020-03-24, prev_date 2020-03-26 18:4\n",
      "Split hour 20 due to passed split at 19. Current date: 2020-03-28 20:01:00+00:00, reference date 2020-03-26, prev_date 2020-03-28 18:4\n",
      "Split hour 20 due to passed split at 19. Current date: 2020-03-29 20:35:00+00:00, reference date 2020-03-28, prev_date 2020-03-29 18:5\n",
      "Split hour 20 due to passed split at 19. Current date: 2020-03-30 20:55:00+00:00, reference date 2020-03-29, prev_date 2020-03-30 18:4\n",
      "Split hour 20 due to passed split at 19. Current date: 2020-03-31 20:08:00+00:00, reference date 2020-03-30, prev_date 2020-03-31 18:4\n",
      "Split hour 20 due to passed split at 19. Current date: 2020-04-02 20:23:00+00:00, reference date 2020-03-31, prev_date 2020-04-02 19:3\n",
      "Split hour 23 due to passed split at 19. Current date: 2020-04-03 23:08:00+00:00, reference date 2020-04-02, prev_date 2020-04-03 18:5\n",
      "Split hour 20 due to passed split at 19. Current date: 2020-04-04 20:04:00+00:00, reference date 2020-04-03, prev_date 2020-04-04 19:5\n",
      "Split hour 20 due to passed split at 19. Current date: 2020-04-05 20:09:00+00:00, reference date 2020-04-04, prev_date 2020-04-05 19:3\n"
     ]
    },
    {
     "data": {
      "application/vnd.jupyter.widget-view+json": {
       "model_id": "5eadcccc1fe946fa9ffcadccf9a4b487",
       "version_major": 2,
       "version_minor": 0
      },
      "text/plain": [
       "exporting log, completed traces ::   0%|          | 0/18 [00:00<?, ?it/s]"
      ]
     },
     "metadata": {},
     "output_type": "display_data"
    }
   ],
   "source": [
    "create_abstracted_log2(file_name, output_file=xes_filename, sort=True, split_hour=19)\n"
   ]
  },
  {
   "cell_type": "code",
   "execution_count": null,
   "id": "ebdcba61adcaa009",
   "metadata": {
    "collapsed": false
   },
   "outputs": [],
   "source": []
  },
  {
   "cell_type": "code",
   "execution_count": null,
   "id": "b8806813fc552a23",
   "metadata": {
    "collapsed": false
   },
   "outputs": [],
   "source": []
  }
 ],
 "metadata": {
  "kernelspec": {
   "display_name": "Python 3",
   "language": "python",
   "name": "python3"
  },
  "language_info": {
   "codemirror_mode": {
    "name": "ipython",
    "version": 2
   },
   "file_extension": ".py",
   "mimetype": "text/x-python",
   "name": "python",
   "nbconvert_exporter": "python",
   "pygments_lexer": "ipython2",
   "version": "2.7.6"
  }
 },
 "nbformat": 4,
 "nbformat_minor": 5
}

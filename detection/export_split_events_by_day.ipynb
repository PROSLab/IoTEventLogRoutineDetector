{
 "cells": [
  {
   "cell_type": "code",
   "execution_count": 2,
   "outputs": [],
   "source": [
    "import pandas as pd\n",
    "import pm4py"
   ],
   "metadata": {
    "collapsed": false,
    "ExecuteTime": {
     "end_time": "2024-05-30T16:30:16.910308Z",
     "start_time": "2024-05-30T16:30:16.906272Z"
    }
   },
   "id": "634df69ffcd21f18"
  },
  {
   "cell_type": "code",
   "execution_count": null,
   "outputs": [],
   "source": [
    "log = pm4py.read_xes('BP-Meets-IoT2020/d21p1/EventLogXESNoSegment.xes')\n",
    "dataframe = pm4py.convert_to_dataframe(log)"
   ],
   "metadata": {
    "collapsed": false
   },
   "id": "initial_id"
  },
  {
   "cell_type": "code",
   "execution_count": 4,
   "outputs": [],
   "source": [
    "dataframe['month_day'] = dataframe['time:timestamp'].dt.floor('d')"
   ],
   "metadata": {
    "collapsed": false,
    "ExecuteTime": {
     "end_time": "2024-05-30T16:30:19.266900Z",
     "start_time": "2024-05-30T16:30:19.263838Z"
    }
   },
   "id": "4190c8b63cdb9f6c"
  },
  {
   "cell_type": "code",
   "execution_count": 7,
   "outputs": [],
   "source": [
    "grouped = dataframe.groupby(dataframe[\"month_day\"])"
   ],
   "metadata": {
    "collapsed": false,
    "ExecuteTime": {
     "end_time": "2024-05-30T16:31:08.462011Z",
     "start_time": "2024-05-30T16:31:08.455300Z"
    }
   },
   "id": "fd2cf29a4e088202"
  },
  {
   "cell_type": "code",
   "execution_count": 9,
   "outputs": [
    {
     "name": "stdout",
     "output_type": "stream",
     "text": [
      "Group: 2020-03-16\n",
      "Group: 2020-03-17\n",
      "Group: 2020-03-18\n",
      "Group: 2020-03-19\n",
      "Group: 2020-03-20\n",
      "Group: 2020-03-21\n",
      "Group: 2020-03-22\n",
      "Group: 2020-03-23\n",
      "Group: 2020-03-24\n",
      "Group: 2020-03-25\n",
      "Group: 2020-03-26\n",
      "Group: 2020-03-27\n",
      "Group: 2020-03-28\n",
      "Group: 2020-03-29\n",
      "Group: 2020-03-30\n",
      "Group: 2020-03-31\n",
      "Group: 2020-04-01\n",
      "Group: 2020-04-02\n",
      "Group: 2020-04-03\n",
      "Group: 2020-04-04\n",
      "Group: 2020-04-05\n",
      "Group: 2020-04-06\n"
     ]
    }
   ],
   "source": [
    "for name, group in grouped:\n",
    "    date_name = name.strftime(\"%Y-%m-%d\")\n",
    "    print(f\"Group: {date_name}\")\n",
    "    group.to_csv(f\"abstraction/csv/EventLogXESNoSegment-{date_name}.csv\")"
   ],
   "metadata": {
    "collapsed": false,
    "ExecuteTime": {
     "end_time": "2024-05-30T16:32:02.249125Z",
     "start_time": "2024-05-30T16:32:02.206561Z"
    }
   },
   "id": "36eb2a66d10f8164"
  },
  {
   "cell_type": "code",
   "execution_count": null,
   "outputs": [],
   "source": [],
   "metadata": {
    "collapsed": false
   },
   "id": "945c9dcc3d4de9d7"
  }
 ],
 "metadata": {
  "kernelspec": {
   "display_name": "Python 3",
   "language": "python",
   "name": "python3"
  },
  "language_info": {
   "codemirror_mode": {
    "name": "ipython",
    "version": 2
   },
   "file_extension": ".py",
   "mimetype": "text/x-python",
   "name": "python",
   "nbconvert_exporter": "python",
   "pygments_lexer": "ipython2",
   "version": "2.7.6"
  }
 },
 "nbformat": 4,
 "nbformat_minor": 5
}

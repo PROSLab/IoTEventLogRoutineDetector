{
 "cells": [
  {
   "cell_type": "code",
   "execution_count": 1,
   "outputs": [],
   "source": [
    "from pm4py.objects.log.importer.xes import importer as xes_importer\n",
    "from pm4py.algo.discovery.dfg import algorithm as dfg_discovery\n",
    "from clustering_utils import  build_cdlib_graph, build_ground_truth, get_ordered_communities, get_events_count\n",
    "from utils import pre_processing_xes, discard_events_in_multiple_activities\n",
    "import os\n",
    "import pm4py\n",
    "import networkx as nx"
   ],
   "metadata": {
    "collapsed": false,
    "ExecuteTime": {
     "end_time": "2024-06-11T08:32:39.015026Z",
     "start_time": "2024-06-11T08:32:38.107569Z"
    }
   },
   "id": "634df69ffcd21f18"
  },
  {
   "cell_type": "code",
   "execution_count": null,
   "outputs": [],
   "source": [
    "# LOADING DATA\n",
    "# event log not partitioned (single trace with a list of events)\n",
    "event_log = xes_importer.apply('BP-Meets-IoT2020/d21p1/EventLogXESNoSegment.xes') # ('sim_22d1p_22/EventLogXESNoSegment.xes')\n",
    "# event log partitioned (list of named traces)\n",
    "event_log_labelled = xes_importer.apply('BP-Meets-IoT2020/d21p1/EventLogXES.xes') # ('sim_22d1p_22/EventLogXES.xes')"
   ],
   "metadata": {
    "collapsed": false
   },
   "id": "6ffed0ec2b21efc0"
  },
  {
   "cell_type": "code",
   "execution_count": 5,
   "outputs": [],
   "source": [
    "from utils import convert_to_dataframe, convert_to_event_log\n",
    "from clustering_utils import get_events_count"
   ],
   "metadata": {
    "collapsed": false,
    "ExecuteTime": {
     "end_time": "2024-06-11T08:32:47.976356Z",
     "start_time": "2024-06-11T08:32:47.966680Z"
    }
   },
   "id": "5dee2990f62d27f7"
  },
  {
   "cell_type": "code",
   "execution_count": 6,
   "outputs": [],
   "source": [
    "event_log_df = convert_to_dataframe(event_log)"
   ],
   "metadata": {
    "collapsed": false,
    "ExecuteTime": {
     "end_time": "2024-06-11T08:32:48.408073Z",
     "start_time": "2024-06-11T08:32:48.398089Z"
    }
   },
   "id": "862d8987890242e0"
  },
  {
   "cell_type": "code",
   "execution_count": 14,
   "outputs": [],
   "source": [
    "event_log_labelled_df = convert_to_dataframe(event_log_labelled)\n"
   ],
   "metadata": {
    "collapsed": false,
    "ExecuteTime": {
     "end_time": "2024-06-11T08:37:33.954266Z",
     "start_time": "2024-06-11T08:37:33.934848Z"
    }
   },
   "id": "c89ee1a4b6865efd"
  },
  {
   "cell_type": "code",
   "execution_count": 7,
   "outputs": [],
   "source": [
    "from conversion import read_csv, format_dataframe, convert_to_event_log, write_xes"
   ],
   "metadata": {
    "collapsed": false,
    "ExecuteTime": {
     "end_time": "2024-06-11T08:32:49.390742Z",
     "start_time": "2024-06-11T08:32:49.380276Z"
    }
   },
   "id": "8357006a10e841af"
  },
  {
   "cell_type": "code",
   "execution_count": 15,
   "outputs": [],
   "source": [
    "def split_at_3(df, output_file=\"abstraction/dataset-3am/split-3am\", sort=False):\n",
    "    \"\"\"Convert a CSV file into a dataframe, segments it on a daily basis, sort it chronologically and save it as XES.\"\"\"\n",
    "    case_concept_name = 'case_id'\n",
    "\n",
    "    if sort:\n",
    "        df = df.sort_values(by=[\"time:timestamp\", \"eventId\"])\n",
    "\n",
    "    date_ref = None\n",
    "    prev_date = None\n",
    "\n",
    "    for i in df.index:\n",
    "        df.at[i, 'reference:case:concept:name'] = df.at[i, 'case:concept:name']\n",
    "        #case_id = case_concept_name\n",
    "        if date_ref is None:\n",
    "            date_ref = str(df.at[i, 'time:timestamp'])[0:10]\n",
    "            case_id = date_ref\n",
    "\n",
    "        # update case concept name if splitting is provided\n",
    "        #hour = abstracted_csv.at[i, 'time:timestamp'].hour # str(abstracted_csv.at[i, 'time:timestamp'])[0:10]\n",
    "        hour = int(str(df.at[i, 'time:timestamp'])[11:13])\n",
    "        if hour > 3:\n",
    "            current_date = str(df.at[i, 'time:timestamp'])[0:10]\n",
    "            if current_date != date_ref:\n",
    "                if prev_date is None:\n",
    "                    prev_date = \"-\"\n",
    "                print(\n",
    "                    f\"Split hour {hour} due to passed split at {3}. Current date: {df.at[i, 'time:timestamp']}, reference date {date_ref}, prev_date {prev_date}\")\n",
    "                date_ref = current_date\n",
    "                case_id = date_ref\n",
    "        prev_date = str(df.at[i, 'time:timestamp'])[0:15]\n",
    "        df.at[i, 'case:concept:name'] = case_id\n",
    "\n",
    "    df = format_dataframe(df, case_id='case:concept:name', activity_key='concept:name',\n",
    "                                      timestamp_key='time:timestamp')\n",
    "\n",
    "\n",
    "    abstracted = convert_to_event_log(df)\n",
    "    write_xes(abstracted, output_file + \"-splitted_at_3.xes\")\n"
   ],
   "metadata": {
    "collapsed": false,
    "ExecuteTime": {
     "end_time": "2024-06-11T08:39:03.426582Z",
     "start_time": "2024-06-11T08:39:03.421113Z"
    }
   },
   "id": "6f4cb2bdb48afb83"
  },
  {
   "cell_type": "code",
   "execution_count": 16,
   "outputs": [
    {
     "name": "stdout",
     "output_type": "stream",
     "text": [
      "Split hour 18 due to passed split at 3. Current date: 2020-03-17 18:49:00+00:00, reference date 2020-03-16, prev_date 2020-03-16 22:3\n",
      "Split hour 23 due to passed split at 3. Current date: 2020-03-16 23:34:00+00:00, reference date 2020-03-17, prev_date 2020-03-18 02:1\n",
      "Split hour 4 due to passed split at 3. Current date: 2020-03-17 04:02:00+00:00, reference date 2020-03-16, prev_date 2020-03-17 00:0\n",
      "Split hour 4 due to passed split at 3. Current date: 2020-03-18 04:17:00+00:00, reference date 2020-03-17, prev_date 2020-03-18 03:0\n",
      "Split hour 4 due to passed split at 3. Current date: 2020-03-19 04:22:00+00:00, reference date 2020-03-18, prev_date 2020-03-18 21:1\n",
      "Split hour 5 due to passed split at 3. Current date: 2020-03-20 05:39:00+00:00, reference date 2020-03-19, prev_date 2020-03-20 01:0\n",
      "Split hour 4 due to passed split at 3. Current date: 2020-03-19 04:10:00+00:00, reference date 2020-03-20, prev_date 2020-03-20 05:4\n",
      "Split hour 5 due to passed split at 3. Current date: 2020-03-20 05:43:00+00:00, reference date 2020-03-19, prev_date 2020-03-19 18:5\n",
      "Split hour 18 due to passed split at 3. Current date: 2020-03-21 18:51:00+00:00, reference date 2020-03-20, prev_date 2020-03-20 22:0\n",
      "Split hour 22 due to passed split at 3. Current date: 2020-03-20 22:47:00+00:00, reference date 2020-03-21, prev_date 2020-03-21 19:1\n",
      "Split hour 4 due to passed split at 3. Current date: 2020-03-21 04:29:00+00:00, reference date 2020-03-20, prev_date 2020-03-20 23:1\n",
      "Split hour 4 due to passed split at 3. Current date: 2020-03-22 04:16:00+00:00, reference date 2020-03-21, prev_date 2020-03-22 03:1\n",
      "Split hour 21 due to passed split at 3. Current date: 2020-03-23 21:47:00+00:00, reference date 2020-03-22, prev_date 2020-03-22 18:1\n",
      "Split hour 18 due to passed split at 3. Current date: 2020-03-24 18:53:00+00:00, reference date 2020-03-23, prev_date 2020-03-23 20:2\n",
      "Split hour 20 due to passed split at 3. Current date: 2020-03-23 20:24:00+00:00, reference date 2020-03-24, prev_date 2020-03-24 18:5\n",
      "Split hour 5 due to passed split at 3. Current date: 2020-03-24 05:10:00+00:00, reference date 2020-03-23, prev_date 2020-03-24 00:1\n",
      "Split hour 4 due to passed split at 3. Current date: 2020-03-25 04:14:00+00:00, reference date 2020-03-24, prev_date 2020-03-25 02:5\n",
      "Split hour 4 due to passed split at 3. Current date: 2020-03-26 04:48:00+00:00, reference date 2020-03-25, prev_date 2020-03-25 21:2\n",
      "Split hour 6 due to passed split at 3. Current date: 2020-03-27 06:59:00+00:00, reference date 2020-03-26, prev_date 2020-03-27 01:2\n",
      "Split hour 4 due to passed split at 3. Current date: 2020-03-26 04:36:00+00:00, reference date 2020-03-27, prev_date 2020-03-27 07:0\n",
      "Split hour 7 due to passed split at 3. Current date: 2020-03-27 07:03:00+00:00, reference date 2020-03-26, prev_date 2020-03-26 18:5\n",
      "Split hour 4 due to passed split at 3. Current date: 2020-03-28 04:33:00+00:00, reference date 2020-03-27, prev_date 2020-03-27 22:5\n",
      "Split hour 8 due to passed split at 3. Current date: 2020-03-29 08:25:00+00:00, reference date 2020-03-28, prev_date 2020-03-29 00:3\n",
      "Split hour 22 due to passed split at 3. Current date: 2020-03-30 22:15:00+00:00, reference date 2020-03-29, prev_date 2020-03-29 23:4\n",
      "Split hour 4 due to passed split at 3. Current date: 2020-03-31 04:31:00+00:00, reference date 2020-03-30, prev_date 2020-03-31 00:1\n",
      "Split hour 4 due to passed split at 3. Current date: 2020-04-01 04:33:00+00:00, reference date 2020-03-31, prev_date 2020-04-01 03:1\n",
      "Split hour 19 due to passed split at 3. Current date: 2020-04-02 19:04:00+00:00, reference date 2020-04-01, prev_date 2020-04-01 21:5\n",
      "Split hour 8 due to passed split at 3. Current date: 2020-04-03 08:00:00+00:00, reference date 2020-04-02, prev_date 2020-04-02 19:0\n",
      "Split hour 8 due to passed split at 3. Current date: 2020-04-02 08:18:00+00:00, reference date 2020-04-03, prev_date 2020-04-03 21:2\n",
      "Split hour 6 due to passed split at 3. Current date: 2020-04-03 06:42:00+00:00, reference date 2020-04-02, prev_date 2020-04-02 18:5\n",
      "Split hour 18 due to passed split at 3. Current date: 2020-04-04 18:41:00+00:00, reference date 2020-04-03, prev_date 2020-04-03 23:3\n",
      "Split hour 23 due to passed split at 3. Current date: 2020-04-03 23:35:00+00:00, reference date 2020-04-04, prev_date 2020-04-04 18:4\n",
      "Split hour 11 due to passed split at 3. Current date: 2020-04-04 11:59:00+00:00, reference date 2020-04-03, prev_date 2020-04-04 01:2\n",
      "Split hour 6 due to passed split at 3. Current date: 2020-04-05 06:21:00+00:00, reference date 2020-04-04, prev_date 2020-04-05 00:3\n"
     ]
    },
    {
     "data": {
      "text/plain": "exporting log, completed traces ::   0%|          | 0/21 [00:00<?, ?it/s]",
      "application/vnd.jupyter.widget-view+json": {
       "version_major": 2,
       "version_minor": 0,
       "model_id": "8e542814f68e45cebbada44a56a32041"
      }
     },
     "metadata": {},
     "output_type": "display_data"
    }
   ],
   "source": [
    "split_at_3(event_log_labelled_df)"
   ],
   "metadata": {
    "collapsed": false,
    "ExecuteTime": {
     "end_time": "2024-06-11T08:39:04.765177Z",
     "start_time": "2024-06-11T08:39:04.284483Z"
    }
   },
   "id": "1f8c5370bb41a5c4"
  },
  {
   "cell_type": "code",
   "execution_count": null,
   "outputs": [],
   "source": [],
   "metadata": {
    "collapsed": false
   },
   "id": "ebdcba61adcaa009"
  },
  {
   "cell_type": "code",
   "execution_count": null,
   "outputs": [],
   "source": [],
   "metadata": {
    "collapsed": false
   },
   "id": "b8806813fc552a23"
  }
 ],
 "metadata": {
  "kernelspec": {
   "display_name": "Python 3",
   "language": "python",
   "name": "python3"
  },
  "language_info": {
   "codemirror_mode": {
    "name": "ipython",
    "version": 2
   },
   "file_extension": ".py",
   "mimetype": "text/x-python",
   "name": "python",
   "nbconvert_exporter": "python",
   "pygments_lexer": "ipython2",
   "version": "2.7.6"
  }
 },
 "nbformat": 4,
 "nbformat_minor": 5
}

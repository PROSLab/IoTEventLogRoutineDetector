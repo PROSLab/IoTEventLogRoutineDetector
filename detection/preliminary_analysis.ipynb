{
 "cells": [
  {
   "cell_type": "code",
   "execution_count": null,
   "id": "initial_id",
   "metadata": {
    "collapsed": true
   },
   "outputs": [],
   "source": [
    "from pm4py.objects.log.importer.xes import importer as xes_importer\n",
    "from pm4py.algo.discovery.dfg import algorithm as dfg_discovery\n",
    "#from clustering_utils import  build_cdlib_graph\n",
    "from utils import pre_processing_xes\n",
    "import pm4py\n",
    "import networkx as nx"
   ]
  },
  {
   "cell_type": "code",
   "execution_count": null,
   "outputs": [],
   "source": [
    "# LOADING DATA\n",
    "# event log not partitioned (single trace with a list of events)\n",
    "event_log = xes_importer.apply('BP-Meets-IoT2020/d21p1/EventLogXESNoSegment.xes') # ('sim_22d1p_22/EventLogXESNoSegment.xes')\n",
    "# event log partitioned (list of named traces)\n",
    "event_log_labelled = xes_importer.apply('BP-Meets-IoT2020/d21p1/EventLogXES_fixed.xes') # ('sim_22d1p_22/EventLogXES.xes')"
   ],
   "metadata": {
    "collapsed": false
   },
   "id": "cf7df781d8df4c04"
  },
  {
   "cell_type": "code",
   "execution_count": null,
   "outputs": [],
   "source": [
    "# Pre-processing: removing noises\n",
    "event_log, event_log_labelled = pre_processing_xes(event_log, event_log_labelled)"
   ],
   "metadata": {
    "collapsed": false
   },
   "id": "4f3ef13555f98a30"
  },
  {
   "cell_type": "code",
   "execution_count": null,
   "outputs": [],
   "source": [
    "# Export to CSV pre-processed data in order to check structure is preserved\n",
    "dataframe_labelled = pm4py.convert_to_dataframe(event_log_labelled)\n",
    "#\n",
    "dataframe_labelled.to_csv('abstraction/EventLogXES_fixed.csv')"
   ],
   "metadata": {
    "collapsed": false
   },
   "id": "cb50c9c17d59826b"
  },
  {
   "cell_type": "code",
   "execution_count": null,
   "outputs": [],
   "source": [
    "# Build DFG with PM4PY\n",
    "dfg_graph = dfg_discovery.apply(event_log)"
   ],
   "metadata": {
    "collapsed": false
   },
   "id": "bbcd5cf7230e3ae0"
  },
  {
   "cell_type": "code",
   "execution_count": null,
   "outputs": [],
   "source": [
    "from clustering_utils import  build_cdlib_graph"
   ],
   "metadata": {
    "collapsed": false
   },
   "id": "d1c296b559108c70"
  },
  {
   "cell_type": "code",
   "execution_count": null,
   "outputs": [],
   "source": [
    "G, nodes, nameIndex = build_cdlib_graph(dfg_graph)"
   ],
   "metadata": {
    "collapsed": false
   },
   "id": "e954cca68db101f2"
  },
  {
   "cell_type": "markdown",
   "source": [
    "# Ground truth\n",
    "ground truth which is represented by the communities present in the log file labeled with the names of the activities.\n"
   ],
   "metadata": {
    "collapsed": false
   },
   "id": "87778df0893bace1"
  },
  {
   "cell_type": "code",
   "execution_count": null,
   "outputs": [],
   "source": [
    "from clustering_utils import  build_ground_truth"
   ],
   "metadata": {
    "collapsed": false
   },
   "id": "1d00eaddf87fb239"
  },
  {
   "cell_type": "code",
   "execution_count": null,
   "outputs": [],
   "source": [
    "ground_truth, ground_truth_dictionary =  build_ground_truth(event_log_labelled, nameIndex, nodes)    "
   ],
   "metadata": {
    "collapsed": false
   },
   "id": "bd08a543498f4706"
  },
  {
   "cell_type": "markdown",
   "source": [
    "# Algorithms evaluation\n",
    "Often it make sense to execute a given CD algorithm multiple times, varying its parameters, so to identify the optimal configuration w.r.t. a given fitness score.\n",
    "We now experiment several algorithms: louvain, leiden, infomap, ..."
   ],
   "metadata": {
    "collapsed": false
   },
   "id": "f76412b41bd65491"
  },
  {
   "cell_type": "code",
   "execution_count": null,
   "outputs": [],
   "source": [
    "from cdlib import algorithms"
   ],
   "metadata": {
    "collapsed": false
   },
   "id": "25ac40bbcbcc610"
  },
  {
   "cell_type": "code",
   "execution_count": null,
   "outputs": [],
   "source": [
    "import hashlib\n",
    "\n",
    "def comm_to_names(communities, nodes, sort_events=False):\n",
    "    print(\"*** Communities to names\")\n",
    "    # Create structure for Segmented log comparison with resulting communities\n",
    "    idx = 1\n",
    "    for community in communities:\n",
    "        #print(community)\n",
    "        vals = []\n",
    "        for i in community:\n",
    "            vals.append(nodes[i])\n",
    "            #print(f\"Community [{idx}]\\t{nodes[i]}\")\n",
    "        if sort_events:            \n",
    "            vals.sort()\n",
    "        len_events = len(vals)\n",
    "        vals_str = \",\".join(vals)\n",
    "        vals_hash = hashlib.md5(vals_str.encode()).hexdigest()\n",
    "        print(f\"Community [{idx}]\\t{len_events}\\t{vals_hash}\\t\" + \",\".join(vals))\n",
    "        idx = idx + 1\n",
    "    print(\"*******\\n\")\n"
   ],
   "metadata": {
    "collapsed": false
   },
   "id": "78abac210208ee55"
  },
  {
   "cell_type": "markdown",
   "source": [],
   "metadata": {
    "collapsed": false
   },
   "id": "b39833fb9ddfd9a"
  },
  {
   "cell_type": "code",
   "execution_count": null,
   "outputs": [],
   "source": [
    "comm_louvain = algorithms.louvain(G, weight='weight', resolution=1.)"
   ],
   "metadata": {
    "collapsed": false
   },
   "id": "6c60ca7ad826e9be"
  },
  {
   "cell_type": "code",
   "execution_count": null,
   "outputs": [],
   "source": [
    "comm_to_names(comm_louvain.communities, nodes, sort_events=True)"
   ],
   "metadata": {
    "collapsed": false
   },
   "id": "e2579e1165d2cd03"
  },
  {
   "cell_type": "code",
   "execution_count": null,
   "outputs": [],
   "source": [
    "#comm_louvain.communities"
   ],
   "metadata": {
    "collapsed": false
   },
   "id": "a2d985a93910fcbb"
  },
  {
   "cell_type": "code",
   "execution_count": null,
   "outputs": [],
   "source": [
    "comm_louvain = algorithms.louvain(G, weight='weight', resolution=2)\n",
    "comm_to_names(comm_louvain.communities, nodes, sort_events=True)"
   ],
   "metadata": {
    "collapsed": false
   },
   "id": "e509c7fb3ca48262"
  },
  {
   "cell_type": "code",
   "execution_count": null,
   "outputs": [],
   "source": [
    "comm_louvain = algorithms.louvain(G, weight='weight', resolution=3)\n",
    "comm_to_names(comm_louvain.communities, nodes, sort_events=True)"
   ],
   "metadata": {
    "collapsed": false
   },
   "id": "d7692dc6c1b8924b"
  },
  {
   "cell_type": "code",
   "execution_count": null,
   "outputs": [],
   "source": [
    "comm_leiden = algorithms.leiden(G)\n",
    "comm_to_names(comm_leiden.communities, nodes, sort_events=True)"
   ],
   "metadata": {
    "collapsed": false
   },
   "id": "aa3a23a479746118"
  },
  {
   "cell_type": "code",
   "execution_count": null,
   "outputs": [],
   "source": [
    "comm_infomap = algorithms.infomap(G)#, flags=\"--use-node-weights-as-flow\")\n",
    "comm_to_names(comm_infomap.communities, nodes, sort_events=True)"
   ],
   "metadata": {
    "collapsed": false
   },
   "id": "3d64f9fc669bbd3b"
  },
  {
   "cell_type": "code",
   "execution_count": null,
   "outputs": [],
   "source": [
    "comm_der = algorithms.der(G, 500, .1, 100)\n",
    "comm_to_names(comm_der.communities, nodes, sort_events=True)"
   ],
   "metadata": {
    "collapsed": false
   },
   "id": "c09c3418e7554868"
  },
  {
   "cell_type": "code",
   "execution_count": null,
   "outputs": [],
   "source": [
    "comm_rb_pots = algorithms.rb_pots(G, weights=\"weight\", resolution_parameter=3)\n",
    "comm_to_names(comm_rb_pots.communities, nodes, sort_events=True)"
   ],
   "metadata": {
    "collapsed": false
   },
   "id": "a269009bd3fcd873"
  },
  {
   "cell_type": "code",
   "execution_count": null,
   "outputs": [],
   "source": [
    "comm_surprise_communities = algorithms.surprise_communities(G)#, weights=\"weight\")\n",
    "comm_to_names(comm_surprise_communities.communities, nodes, sort_events=True)"
   ],
   "metadata": {
    "collapsed": false
   },
   "id": "eba50e759ccd897c"
  },
  {
   "cell_type": "code",
   "execution_count": null,
   "outputs": [],
   "source": [
    "comm_frc_fgsn = algorithms.frc_fgsn(G, theta=0, eps=0.5, r=3)\n",
    "comm_to_names(comm_frc_fgsn.communities, nodes, sort_events=True)"
   ],
   "metadata": {
    "collapsed": false
   },
   "id": "2a7b1cf9d7efdff1"
  },
  {
   "cell_type": "code",
   "execution_count": null,
   "outputs": [],
   "source": [
    "from cdlib import evaluation"
   ],
   "metadata": {
    "collapsed": false
   },
   "id": "9b0875de1a5a88bc"
  },
  {
   "cell_type": "code",
   "execution_count": null,
   "outputs": [],
   "source": [
    "evaluation.f1(comm_frc_fgsn,ground_truth)"
   ],
   "metadata": {
    "collapsed": false
   },
   "id": "914fc85a674abe86"
  },
  {
   "cell_type": "code",
   "execution_count": null,
   "outputs": [],
   "source": [
    "comm_louvain = algorithms.louvain(G, weight='weight', resolution=3, randomize=True)"
   ],
   "metadata": {
    "collapsed": false
   },
   "id": "d3df026f6104174d"
  },
  {
   "cell_type": "code",
   "execution_count": null,
   "outputs": [],
   "source": [
    "evaluation.size(G, comm_louvain)"
   ],
   "metadata": {
    "collapsed": false
   },
   "id": "1acad13470ee1721"
  },
  {
   "cell_type": "code",
   "execution_count": null,
   "outputs": [],
   "source": [
    "evaluation.f1(comm_louvain,ground_truth)"
   ],
   "metadata": {
    "collapsed": false
   },
   "id": "7ad858a53d27cf2"
  },
  {
   "cell_type": "code",
   "execution_count": null,
   "outputs": [],
   "source": [
    "evaluation.normalized_mutual_information(comm_louvain,comm_infomap)\n"
   ],
   "metadata": {
    "collapsed": false
   },
   "id": "4216a71e1a6bcae5"
  },
  {
   "cell_type": "code",
   "execution_count": null,
   "outputs": [],
   "source": [
    "evaluation.f1(comm_infomap,ground_truth)\n"
   ],
   "metadata": {
    "collapsed": false
   },
   "id": "4e306ab08185d346"
  },
  {
   "cell_type": "code",
   "execution_count": null,
   "outputs": [],
   "source": [
    "evaluation.omega(comm_infomap,comm_infomap)"
   ],
   "metadata": {
    "collapsed": false
   },
   "id": "a0c88e562dadaf40"
  },
  {
   "cell_type": "code",
   "execution_count": null,
   "outputs": [],
   "source": [
    "from cdlib import ensemble\n",
    "\n",
    "resolution = ensemble.Parameter(name=\"resolution\", start=0.7, end=9, step=0.1)\n",
    "\n",
    "for coms in ensemble.grid_execution(graph=G, method=algorithms.louvain, parameters=[resolution]):\n",
    "    print(coms.method_name, coms.method_parameters, \"\\n\", coms.communities, \"\\n\")"
   ],
   "metadata": {
    "collapsed": false
   },
   "id": "dee15032f8433758"
  },
  {
   "cell_type": "code",
   "execution_count": null,
   "outputs": [],
   "source": [
    "resolution = ensemble.Parameter(name=\"resolution\", start=1, end=9, step=0.1)\n",
    "#randomize = ensemble.BoolParameter(name=\"randomize\")\n",
    "\n",
    "coms, scoring = ensemble.grid_search(graph=G, method=algorithms.louvain,\n",
    "                                                     parameters=[resolution],\n",
    "                                                     quality_score=evaluation.erdos_renyi_modularity,\n",
    "                                                     aggregate=max)\n",
    "\n",
    "print(\"Communities:\\n %s \\nConfiguration: %s \\nScoring: %s\" %(coms.communities, coms.method_parameters, scoring))"
   ],
   "metadata": {
    "collapsed": false
   },
   "id": "b7bbfda1af02fa18"
  },
  {
   "cell_type": "code",
   "execution_count": null,
   "outputs": [],
   "source": [
    "comm_frc_fgsn = algorithms.frc_fgsn(G, theta=0.001, eps=0.5, r=3)\n",
    "#comm_to_names(comm_frc_fgsn.communities, nodes, sort_events=True)\n",
    "evaluation.f1(comm_frc_fgsn,ground_truth)"
   ],
   "metadata": {
    "collapsed": false
   },
   "id": "54d21535066ca0e5"
  },
  {
   "cell_type": "markdown",
   "source": [
    "# Overlapping"
   ],
   "metadata": {
    "collapsed": false
   },
   "id": "ac468a598d51a6b7"
  },
  {
   "cell_type": "code",
   "execution_count": null,
   "outputs": [],
   "source": [
    "dcs = algorithms.dcs(G)\n",
    "comm_to_names(dcs.communities, nodes, sort_events=True)"
   ],
   "metadata": {
    "collapsed": false
   },
   "id": "bbb0fd5593bfd8bf"
  },
  {
   "cell_type": "code",
   "execution_count": null,
   "outputs": [],
   "source": [
    "evaluation.f1(dcs,ground_truth)\n"
   ],
   "metadata": {
    "collapsed": false
   },
   "id": "504c681c911643aa"
  },
  {
   "cell_type": "code",
   "execution_count": null,
   "outputs": [],
   "source": [],
   "metadata": {
    "collapsed": false
   },
   "id": "966efe811142fee2"
  }
 ],
 "metadata": {
  "kernelspec": {
   "display_name": "Python 3",
   "language": "python",
   "name": "python3"
  },
  "language_info": {
   "codemirror_mode": {
    "name": "ipython",
    "version": 2
   },
   "file_extension": ".py",
   "mimetype": "text/x-python",
   "name": "python",
   "nbconvert_exporter": "python",
   "pygments_lexer": "ipython2",
   "version": "2.7.6"
  }
 },
 "nbformat": 4,
 "nbformat_minor": 5
}
